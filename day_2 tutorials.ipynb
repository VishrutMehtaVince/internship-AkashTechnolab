{
 "cells": [
  {
   "cell_type": "code",
   "execution_count": 1,
   "metadata": {},
   "outputs": [
    {
     "name": "stdout",
     "output_type": "stream",
     "text": [
      "Hello World!!!\n"
     ]
    }
   ],
   "source": [
    "print(\"Hello World!!!\")"
   ]
  },
  {
   "cell_type": "code",
   "execution_count": 2,
   "metadata": {},
   "outputs": [],
   "source": [
    "n1, n2, name = 10, 11.5, \"vishrut\""
   ]
  },
  {
   "cell_type": "code",
   "execution_count": 3,
   "metadata": {},
   "outputs": [
    {
     "name": "stdout",
     "output_type": "stream",
     "text": [
      "10\n",
      "n2 is 11.5\n",
      "My name is vishrut\n"
     ]
    }
   ],
   "source": [
    "print(n1)\n",
    "print(\"n2 is\", n2)\n",
    "print(\"My name is\", name)"
   ]
  },
  {
   "cell_type": "code",
   "execution_count": null,
   "metadata": {},
   "outputs": [],
   "source": []
  },
  {
   "cell_type": "code",
   "execution_count": 4,
   "metadata": {},
   "outputs": [
    {
     "name": "stdout",
     "output_type": "stream",
     "text": [
      "10 is of type: <class 'int'>\n",
      "11.5 is complex number? False\n"
     ]
    }
   ],
   "source": [
    "print(n1, \"is of type:\", type(n1))\n",
    "print(n2, \"is complex number?\", isinstance(11.5, complex))"
   ]
  },
  {
   "cell_type": "code",
   "execution_count": 5,
   "metadata": {},
   "outputs": [
    {
     "name": "stdout",
     "output_type": "stream",
     "text": [
      "(1+2j) is complex number? True\n"
     ]
    }
   ],
   "source": [
    "n3 = 1 + 2j\n",
    "print(n3, \"is complex number?\", isinstance(1 + 2j, complex))"
   ]
  },
  {
   "cell_type": "code",
   "execution_count": 6,
   "metadata": {},
   "outputs": [
    {
     "name": "stdout",
     "output_type": "stream",
     "text": [
      "v\n",
      "is\n",
      "rut\n",
      "vishr\n",
      "vishrutvishrutvishrutvishrut\n",
      "hellovishrut\n"
     ]
    }
   ],
   "source": [
    "print(name[0])\n",
    "print(name[1:3])\n",
    "print(name[4:])\n",
    "print(name[:5])\n",
    "print(name * 4)\n",
    "print(\"hello\" + name)"
   ]
  },
  {
   "cell_type": "code",
   "execution_count": 7,
   "metadata": {},
   "outputs": [],
   "source": [
    "l1 = [10, 20, 30.5, \"vishrut\"]"
   ]
  },
  {
   "cell_type": "code",
   "execution_count": 8,
   "metadata": {},
   "outputs": [
    {
     "name": "stdout",
     "output_type": "stream",
     "text": [
      "[10, 20, 30.5, 'vishrut'] <class 'list'>\n",
      "20\n",
      "[20, 30.5]\n"
     ]
    }
   ],
   "source": [
    "print(l1, type(l1))\n",
    "print(l1[1])\n",
    "print(l1[1:3])"
   ]
  },
  {
   "cell_type": "code",
   "execution_count": 9,
   "metadata": {},
   "outputs": [
    {
     "name": "stdout",
     "output_type": "stream",
     "text": [
      "(10, 20, 30, 40, 50) <class 'tuple'>\n",
      "20\n",
      "(40, 50)\n",
      "(10, 20, 30)\n"
     ]
    }
   ],
   "source": [
    "t1 = (10, 20, 30, 40, 50)\n",
    "\n",
    "print(t1, type(t1))\n",
    "print(t1[1])\n",
    "print(t1[3:])\n",
    "print(t1[:3])"
   ]
  },
  {
   "cell_type": "code",
   "execution_count": 10,
   "metadata": {},
   "outputs": [
    {
     "name": "stdout",
     "output_type": "stream",
     "text": [
      "{10: 'hello', 'a1': 100, 20: 200} <class 'dict'>\n",
      "hello\n",
      "100\n",
      "200\n"
     ]
    }
   ],
   "source": [
    "d1 = {10: \"hello\", \"a1\": 100, 20: 200}\n",
    "\n",
    "print(d1, type(d1))\n",
    "print(d1[10])\n",
    "print(d1[\"a1\"])\n",
    "print(d1[20])"
   ]
  },
  {
   "cell_type": "code",
   "execution_count": null,
   "metadata": {},
   "outputs": [],
   "source": []
  }
 ],
 "metadata": {
  "kernelspec": {
   "display_name": "Python 3",
   "language": "python",
   "name": "python3"
  },
  "language_info": {
   "codemirror_mode": {
    "name": "ipython",
    "version": 3
   },
   "file_extension": ".py",
   "mimetype": "text/x-python",
   "name": "python",
   "nbconvert_exporter": "python",
   "pygments_lexer": "ipython3",
   "version": "3.7.6"
  }
 },
 "nbformat": 4,
 "nbformat_minor": 4
}
